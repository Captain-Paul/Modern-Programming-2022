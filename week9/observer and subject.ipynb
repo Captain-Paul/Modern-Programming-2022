{
 "cells": [
  {
   "cell_type": "code",
   "execution_count": null,
   "metadata": {},
   "outputs": [],
   "source": [
    "class Observer:\n",
    "    def __init__(self) -> None:\n",
    "        pass\n",
    "\n",
    "    def update(self, *args, **kwargs):\n",
    "        pass\n",
    "\n",
    "class Subject:\n",
    "    def __init__(self) -> None:\n",
    "        self._observers = []\n",
    "    \n",
    "    def attach(self):\n",
    "        pass\n",
    "\n",
    "    def notifyAll(self, *args, **kwargs):\n",
    "        for observer in self._observers:\n",
    "            observer.update(*args, **kwargs)\n",
    "\n",
    "class Stock(Subject):\n",
    "    pass\n",
    "\n",
    "class Investor(Observer):\n",
    "    pass"
   ]
  }
 ],
 "metadata": {
  "kernelspec": {
   "display_name": "Python 3.8.6 64-bit",
   "language": "python",
   "name": "python3"
  },
  "language_info": {
   "name": "python",
   "version": "3.8.6"
  },
  "orig_nbformat": 4,
  "vscode": {
   "interpreter": {
    "hash": "3a53c88f4fdc719dd3265ddb13e8e9d7137a6cb76512705960f4604c66fa0a8c"
   }
  }
 },
 "nbformat": 4,
 "nbformat_minor": 2
}
